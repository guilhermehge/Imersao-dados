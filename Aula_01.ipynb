{
 "cells": [
  {
   "cell_type": "markdown",
   "metadata": {
    "id": "Tx35TmvXASDM"
   },
   "source": [
    "\n",
    "# Olá! \n",
    "\n",
    "Seja bem-vinda  ou bem-vindo ao notebook da aula 01, nesta aula vamos realizar nossa primeira análise de dados e no final já seremos capazes de tirar algumas conclusões.\n",
    "\n",
    "Nós desenvolveremos nosso projeto aqui no google colaboratory, assim podemos mesclar células contendo textos em formato markdown e células de código, além disso você não precisa instalar nada na sua máquina. Então, que tal começar testando algumas linhas de código?\n",
    "\n",
    "No campo abaixo temos o que chamamos de célula. Na célula nós podemos digitar textos, cálculos e códigos. \n",
    "\n",
    "Após eu introduzir o que eu quero na célula eu vou rodar esse conteúdo. Para isso podemos usar o atalho SHIFT + ENTER, ou até mesmo clicar no símbolo de play no canto esquerdo da célula. Na primeira vez que rodamos algo no nosso notebook ele vai demorar um pouco mais de tempo, e isso ocorre porque o google está alocando uma máquina virtual para nós utilizarmos.\n",
    "\n",
    "Vamos então fazer alguns testes, como os exemplos abaixo:\n"
   ]
  },
  {
   "cell_type": "code",
   "execution_count": 1,
   "metadata": {
    "colab": {
     "base_uri": "https://localhost:8080/"
    },
    "id": "OcBN_0IyCPi2",
    "outputId": "1a784255-47ad-4d32-8f9d-9f516b0fc9e1"
   },
   "outputs": [],
   "source": [
    "10 + 10"
   ]
  },
  {
   "cell_type": "code",
   "execution_count": 2,
   "metadata": {
    "colab": {
     "base_uri": "https://localhost:8080/",
     "height": 35
    },
    "id": "JwlLIq4sC_0_",
    "outputId": "28d65823-e70d-46ea-d391-16fc7269ae9f"
   },
   "outputs": [],
   "source": [
    "'Thiago'"
   ]
  },
  {
   "cell_type": "markdown",
   "metadata": {
    "id": "5PGNQ2pACcmg"
   },
   "source": [
    "# Importando os dados\n",
    "\n",
    "Nessa imersão nós vamos mergulhar no universo da biologia e da biotecnologia e explorar uma base de dados da área.\n",
    "\n",
    "Para a nossa análise, está faltando então os dados. Para conseguirmos esses dados vamos acessar o Github, nesse link:\n",
    "\n",
    "https://github.com/alura-cursos/imersaodados3/tree/main/dados\n",
    "\n",
    "Então, agora vamos importar essa base de dados para dentro do nosso notebook. Para juntar essas informações vamos utilizar nossa famosa biblioteca do \"Pandas\".\n",
    "Vamos importar essa biblioteca através do seguinte código:"
   ]
  },
  {
   "cell_type": "code",
   "execution_count": null,
   "metadata": {
    "colab": {
     "base_uri": "https://localhost:8080/",
     "height": 422
    },
    "id": "n4nsCvloshsm",
    "outputId": "30a896a7-9c03-40f3-c50b-765eb40b156a"
   },
   "outputs": [],
   "source": [
    "import pandas as pd\n",
    "\n",
    "url_dados = 'https://github.com/alura-cursos/imersaodados3/blob/main/dados/dados_experimentos.zip?raw=true'\n",
    "\n",
    "dados = pd.read_csv(url_dados, compression = 'zip')\n",
    "dados"
   ]
  },
  {
   "cell_type": "markdown",
   "metadata": {
    "id": "0p7WSVbJewNd"
   },
   "source": [
    "Observe que imprimimos agora todas as nossas linhas e colunas da nossa tabela.\n",
    "\n",
    "Aqui observamos que temos dados referentes a ID, tratamento, tempo, dose, entre outras.\n",
    "\n",
    "Para nos auxiliar na visualização e na identificação das colunas dos dados que vamos trabalhar, faremos um recorte, uma espécie de cabeçalho, com 5 linhas, e para isso usamos o seguinte comando:"
   ]
  },
  {
   "cell_type": "code",
   "execution_count": null,
   "metadata": {
    "colab": {
     "base_uri": "https://localhost:8080/",
     "height": 244
    },
    "id": "ongQ8MkFsnWY",
    "outputId": "55731c1e-f7fc-4e41-ae6c-86d40d0a1304"
   },
   "outputs": [],
   "source": [
    "dados.head()"
   ]
  },
  {
   "cell_type": "markdown",
   "metadata": {
    "id": "PR-2eTPghNeM"
   },
   "source": [
    "Quando estávamos trabalhando com o conjunto total de dados nós tínhamos a informação do número total de linhas e colunas. Porém, agora com o head, nós perdemos essa informação. Então, caso você queira recuperar a informação do total de linhas e colunas basta utilizar:"
   ]
  },
  {
   "cell_type": "code",
   "execution_count": null,
   "metadata": {
    "colab": {
     "base_uri": "https://localhost:8080/"
    },
    "id": "Q_5RP0HKs1Sy",
    "outputId": "f4cd24a8-03fe-4e0f-e835-dbc8c024691f"
   },
   "outputs": [],
   "source": [
    "dados.shape"
   ]
  },
  {
   "cell_type": "markdown",
   "metadata": {
    "id": "mrB8egkqhuqu"
   },
   "source": [
    "Então, agora vamos voltar para o nosso problema. \n",
    "\n",
    "Nós queremos iniciar fazendo uma análise dos dados que estamos tratando. Vamos começar selecionando só uma coluna, para entendermos do que ela está tratando. \n",
    "\n",
    "Vamos iniciar com a coluna tratamento. Para isso vamos digitar:"
   ]
  },
  {
   "cell_type": "code",
   "execution_count": null,
   "metadata": {
    "colab": {
     "base_uri": "https://localhost:8080/"
    },
    "id": "a8Og_8PIwdAS",
    "outputId": "f6f15d1a-7c5d-4c17-dea9-75b6479ca554"
   },
   "outputs": [],
   "source": [
    "dados['tratamento']"
   ]
  },
  {
   "cell_type": "markdown",
   "metadata": {
    "id": "2r9MV9uDijPI"
   },
   "source": [
    "Esse tipo de informação, da coluna, é o que chamamos de 'série'. Já a tabela inteira nós chamos de 'dataframe'.\n",
    "\n",
    "Agora para vermos os tipos específicos de informação que temos dentro dessa coluna vamos digitar:"
   ]
  },
  {
   "cell_type": "code",
   "execution_count": null,
   "metadata": {
    "colab": {
     "base_uri": "https://localhost:8080/"
    },
    "id": "_RkLWqqrwtJG",
    "outputId": "a4ca6ec7-c59b-474d-a580-72b5ce083102"
   },
   "outputs": [],
   "source": [
    "dados['tratamento'].unique()"
   ]
  },
  {
   "cell_type": "markdown",
   "metadata": {
    "id": "T1ZunAY_jBGM"
   },
   "source": [
    "A resposta foi dada no formato de array, que nada mais é do que um vetor, ou seja, um tipo de estrutura de dados.\n",
    "\n",
    "Observe que encontramos dois tipos: 'com droga' e 'com controle'.\n",
    "\n",
    "Com droga, como o próprio nome nos diz, é quando estamos aplicando algum tipo de droga para a amostra. Já com o controle é uma técnica estatística em que isolamos as outras varíaveis e observamos apenas a variável de interesse.\n"
   ]
  },
  {
   "cell_type": "markdown",
   "metadata": {
    "id": "uceNBUhKkkUt"
   },
   "source": [
    "Agora vamos analisar a coluna do tempo:"
   ]
  },
  {
   "cell_type": "code",
   "execution_count": null,
   "metadata": {
    "colab": {
     "base_uri": "https://localhost:8080/"
    },
    "id": "IOPFkJW5w5i-",
    "outputId": "125880f9-762c-453f-f8f2-5f8859dc7051"
   },
   "outputs": [],
   "source": [
    "dados['tempo'].unique()"
   ]
  },
  {
   "cell_type": "markdown",
   "metadata": {
    "id": "40HmKHUikxpD"
   },
   "source": [
    "Encontramos 3 tipos de informação nessa coluna: 24, 72 e 48. O que pode nos indicar o tempo, provavelmente em horas, de intervalo que foi administrada a dose de medicamentos ou drogas.\n",
    "\n",
    "É interessante que observamos o comportamento das células com essa diferença de tempo, já que se analisássemos num período diferente poderia não dar tempo suficiente pra célula manifestar o determinado comportamento."
   ]
  },
  {
   "cell_type": "markdown",
   "metadata": {
    "id": "e1ObXppVlkS2"
   },
   "source": [
    "Além do tempo, podemos analisar também a coluna de dose:"
   ]
  },
  {
   "cell_type": "code",
   "execution_count": null,
   "metadata": {
    "colab": {
     "base_uri": "https://localhost:8080/"
    },
    "id": "2UWEVupCx9M7",
    "outputId": "6e62e976-3b0b-43fe-f6e0-17c0629acedf"
   },
   "outputs": [],
   "source": [
    "dados['dose'].unique()"
   ]
  },
  {
   "cell_type": "markdown",
   "metadata": {
    "id": "Gd3tqT3NmHy2"
   },
   "source": [
    "Aqui obtemos dois tipos de doses diferentes, d1 e d2, mas não conseguimos afirmar nada categoricamente de antemão."
   ]
  },
  {
   "cell_type": "code",
   "execution_count": null,
   "metadata": {
    "id": "vCIo515iGuh6"
   },
   "outputs": [],
   "source": []
  },
  {
   "cell_type": "markdown",
   "metadata": {
    "id": "TplxQpeJmO88"
   },
   "source": [
    "Vamos então analisar a categoria droga:"
   ]
  },
  {
   "cell_type": "code",
   "execution_count": null,
   "metadata": {
    "colab": {
     "base_uri": "https://localhost:8080/"
    },
    "id": "p1NaXGzCySfP",
    "outputId": "b9464461-f717-44b7-8aa5-fa4e6a2f13e3"
   },
   "outputs": [],
   "source": [
    "dados['droga'].unique()"
   ]
  },
  {
   "cell_type": "markdown",
   "metadata": {
    "id": "Htm4SDCO-AZS"
   },
   "source": [
    "Agora com a resposta de ```dados['droga'].unique()``` obtivemos essa série de códigos como resposta. Talvez esses números foram codificados na tentativa de anonimizar os tipos de drogas usadas, para tentar evitar qualquer tipo de viés na análise dos resultados.\n",
    "\n",
    "Há uma série de regras quando alguns experimentos são feitos, evitando mostrar dados como nome, sexo, e outros fatores, dependendo da análise a ser feita, para que sejam evitados vieses."
   ]
  },
  {
   "cell_type": "markdown",
   "metadata": {
    "id": "Dq3VdLCAAKdt"
   },
   "source": [
    "Vamos analisar a coluna nomeada como g-0 agora:"
   ]
  },
  {
   "cell_type": "code",
   "execution_count": null,
   "metadata": {
    "colab": {
     "base_uri": "https://localhost:8080/"
    },
    "id": "CgHdbkO9ye6g",
    "outputId": "a0195361-e58e-47d9-b3cb-c4ee33cd0316"
   },
   "outputs": [],
   "source": [
    "dados['g-0'].unique()"
   ]
  },
  {
   "cell_type": "markdown",
   "metadata": {
    "id": "BqL9s6hrBPRT"
   },
   "source": [
    "Só olhando fica difícil tentar deduzir o que esses números representam. Então, nesse ponto, com o auxílio da Vanessa, especialista, conseguimos a informação que essa letra 'g' da coluna remete à palavra gene. Ou seja, esses números nos dizem a expressão de cada gene frente as drogas ou a exposição.\n",
    "\n",
    "Quando subimos de volta na tabela, percebemos que há diversos valores, inclusive com várias casas decimais. Aparentemente esses números foram \"arredondados\", normalizados, para podermos compará-los de alguma forma.\n",
    "\n",
    "Então, até agora na nossa análise, já conseguimos identificar e entender as informações de diferentes colunas; as colunas que nos indicam os tratamentos, as drogas, o tempo, e depois as respostas genéticas, que tem a letra g no ínicio do seu nome.\n",
    "\n",
    "Outro tipo de análise que podemos fazer agora é entender a distribuição dessas informações. Por exemplo, podemos saber quantos experimentos temos utilizando droga e quantos não utilizam; quantos usam o d1, e quantos utilizam o d2, e assim por diante.\n",
    "\n",
    "Como podemos fazer isso? Vamos utilizar esse código:"
   ]
  },
  {
   "cell_type": "code",
   "execution_count": null,
   "metadata": {
    "colab": {
     "base_uri": "https://localhost:8080/"
    },
    "id": "pvSIUn9_zTWH",
    "outputId": "b3a06c09-41b1-464c-de21-a5e4e4c25329"
   },
   "outputs": [],
   "source": [
    "dados['tratamento'].value_counts()"
   ]
  },
  {
   "cell_type": "code",
   "execution_count": null,
   "metadata": {},
   "outputs": [],
   "source": [
    "dados['droga'].value_counts().sum()"
   ]
  },
  {
   "cell_type": "markdown",
   "metadata": {
    "id": "WKEZrPM3R6sn"
   },
   "source": [
    "Agora, em vez de usarmos o ```.unique``` no código, nós utilizamos o ```.value_counts``` já que nosso objetivo era contar a quantidade de valores que apareciam nas colunas, nesse caso, na coluna ```tratamento```.\n",
    "\n",
    "No resultado ele retornou 2 linhas: uma com a quantidade de elementos que temos, ou seja, com a minha frequência, na categoria ```com_droga``` e a outra com a quantidade que temos na categoria ```com_controle```.\n",
    "\n",
    "Houve uma grande diferença no resultado dessas categorias, não é mesmo? Isso é, no mínimo, curioso. Então, Guilherme vai nos sugerir um desafio, de investigar o por quê dessa diferença tão grande.\n",
    "\n",
    "Nesse momento o Thiago já escreve outros dois desafios, o desafio #2 e o desafio #3. E a Vanessa também deixa o seu, desafio #4. Todos os desafios dessa aula estão escritos no final desse notebook."
   ]
  },
  {
   "cell_type": "markdown",
   "metadata": {
    "id": "SlyZ2RiGeU80"
   },
   "source": [
    "Será que essa diferença entre os valores dentro das categorias continuam tão desproporcionais? Vamos investigar a categoria ```dose```:"
   ]
  },
  {
   "cell_type": "code",
   "execution_count": null,
   "metadata": {
    "colab": {
     "base_uri": "https://localhost:8080/"
    },
    "id": "8F1qPq6h2WBl",
    "outputId": "923d0150-a27c-49fb-fa5e-58f096342850"
   },
   "outputs": [],
   "source": [
    "dados['dose'].value_counts()"
   ]
  },
  {
   "cell_type": "markdown",
   "metadata": {
    "id": "TFa5qpVfepQE"
   },
   "source": [
    "Nesse ponto parece que as coisas já estão mais equilibradas. Mas somente com o número é difícil fazermos uma leitura mais aprofundada. Então, nesse momento, vamos resolver um dos desafios deixados. Então, se até aqui você ainda nao resolveu os desafios do vídeo e nao quer receber um spoiler, pare aqui e tente resolvê-los primeiro."
   ]
  },
  {
   "cell_type": "markdown",
   "metadata": {
    "id": "l7KpuFzEfPvu"
   },
   "source": [
    "Para entendermos melhor e fazer um comparativo é legal traçarmos a proporção entre os dados. Vamos escrever o código agora, setando como parâmetro, dentro dos parênteses o ```normalize = True``` :"
   ]
  },
  {
   "cell_type": "code",
   "execution_count": null,
   "metadata": {
    "colab": {
     "base_uri": "https://localhost:8080/"
    },
    "id": "1sX66gG249OZ",
    "outputId": "57c3785c-f478-4b98-c396-09fbe463ac07"
   },
   "outputs": [],
   "source": [
    "dados['tratamento'].value_counts(normalize = True)"
   ]
  },
  {
   "cell_type": "markdown",
   "metadata": {
    "id": "hqvUYNmCfy4k"
   },
   "source": [
    "Temos agora os dados \"normalizados\". Podemos interpretar utilizando a porcentagem (multiplicando por 100), o que nos daria algo em torno de 92% versus 8% (aproximadamente), mostrando o tamanho da desproporção."
   ]
  },
  {
   "cell_type": "markdown",
   "metadata": {
    "id": "6pt69FpPgJes"
   },
   "source": [
    "Vamos fazer o mesmo agora com a coluna ```dose```:"
   ]
  },
  {
   "cell_type": "code",
   "execution_count": null,
   "metadata": {
    "colab": {
     "base_uri": "https://localhost:8080/"
    },
    "id": "wrLfRXx65NPP",
    "outputId": "49f70806-76cc-49de-ee06-25c487e0106b"
   },
   "outputs": [],
   "source": [
    "dados['dose'].value_counts(normalize = True)"
   ]
  },
  {
   "cell_type": "markdown",
   "metadata": {
    "id": "jfzmJDZMglnC"
   },
   "source": [
    "Temos aqui o resultado. Inclusive, como mini-desafio, você pode fazer o mesmo processo com as outras colunas.\n",
    "\n",
    "Certo, mas geralmente, quando há a trasmissão dessas informações, vemos uma série de gráficos. E, geralmente, é usado aquele gráfico que parece uma torta, ou uma pizza.\n",
    "\n",
    "Vamos então plotar um gráfico dessa tipo, com o seguinte código:"
   ]
  },
  {
   "cell_type": "code",
   "execution_count": null,
   "metadata": {
    "colab": {
     "base_uri": "https://localhost:8080/",
     "height": 265
    },
    "id": "LYiMo76m5bnS",
    "outputId": "13506524-544f-4398-ce92-edd48dd484bc"
   },
   "outputs": [],
   "source": [
    "dados['tratamento'].value_counts().plot.pie()"
   ]
  },
  {
   "cell_type": "markdown",
   "metadata": {
    "id": "3TSXa6pLhM79"
   },
   "source": [
    "Aqui, em azul, nós temos a quantidade de tratamento com drogas(que é muito maior, em proporção), e em laranja temos o tratamento \"com controle\". Ficou até parecendo um pacman, hehe.\n",
    "\n",
    "Vamos aproveitar e analisar as outras informações com os gráficos também, para vermos o que acontece. Vamos analisar a coluna tempo:"
   ]
  },
  {
   "cell_type": "code",
   "execution_count": null,
   "metadata": {
    "colab": {
     "base_uri": "https://localhost:8080/",
     "height": 265
    },
    "id": "qmBQF9kx5uIc",
    "outputId": "3e2491b4-f0bb-4e50-c776-96e08b13ce3a"
   },
   "outputs": [],
   "source": [
    "dados['tempo'].value_counts().plot.pie()"
   ]
  },
  {
   "cell_type": "markdown",
   "metadata": {
    "id": "fMiT70FVhtsj"
   },
   "source": [
    "Repare como ficou difícil a olho nú identificarmos qual observação é maior através do gráfico. Esse tipo de gráfico pode acabar dificultando um pouco a análise, especialmente quando as informações estão melhor balanceadas. \n",
    "\n",
    "Além de identificar a quantidade de horas observadas, nós não conseguimos extrair mais nenhuma informação desse gráfico. Inclusive, nós temos uma espécie de regrinha, que diz que quando formos fazer algum tipo de análise, procurarmos evitar o uso de gráficos que nos remetem a comida, como por exemplo: rosca, pizza, torta, e assim por diante.\n",
    "\n",
    "Então qual tipo de gráfico poderíamos utlizar para melhorarmos nossa visualização? Vamos utilizar o gráfico de barras, através deste código:"
   ]
  },
  {
   "cell_type": "code",
   "execution_count": null,
   "metadata": {
    "colab": {
     "base_uri": "https://localhost:8080/",
     "height": 285
    },
    "id": "TJ0MjBYZ6LOI",
    "outputId": "15f90942-77ae-4358-f266-799b4a3e5133"
   },
   "outputs": [],
   "source": [
    "dados['tempo'].value_counts().plot.bar()"
   ]
  },
  {
   "cell_type": "markdown",
   "metadata": {
    "id": "htMQ_11Vpjsv"
   },
   "source": [
    "Agora sim conseguimos identificar com mais facilidade qual observação tem a sua maior frequência. Na verdade a quantidade de horas com o maior número de observações foi a de 48.\n",
    "\n",
    "No eixo y temos o número que nos remete ao número de observações. Então podemos observar que tivemos pouco mais de 8000 observações relativas às 48 horas.\n",
    "\n",
    "Então, o gráfico de barras acabou sendo muit mais útil, nesse caso, do que o gráfico de pizza."
   ]
  },
  {
   "cell_type": "markdown",
   "metadata": {
    "id": "qnvEJWZgqw7K"
   },
   "source": [
    "Ao longo da aula nós falamos sobre a expressão gênica. Se nós voltarmos à tabela, na coluna g-0, nós temos alguns valores dentro de um intervalo definido. Para não termos valores muito distantes entre si, é bastante comum no meio científico que haja uma normalização dos resultados, para criamos um intervalo que não seja tão grande, em que o meio dessa distribuição seja o 0.\n",
    "\n",
    "Como nós podemos saber em quais linhas dessa coluna, o meu valor está acima de 0?\n",
    "\n",
    "Vamos fazer uma consulta nos nossos dados, da seguinte maneira:"
   ]
  },
  {
   "cell_type": "code",
   "execution_count": null,
   "metadata": {
    "colab": {
     "base_uri": "https://localhost:8080/",
     "height": 244
    },
    "id": "_igXHK3A8wQr",
    "outputId": "1950b223-a1e5-49df-c1b6-19e55b75aa71"
   },
   "outputs": [],
   "source": [
    "dados_filtrados = dados[dados['g-0'] > 0]\n",
    "dados_filtrados.head()"
   ]
  },
  {
   "cell_type": "markdown",
   "metadata": {
    "id": "7Bbn_WyZuSSD"
   },
   "source": [
    "Dessa maneira, temos somente as 5 primeiras linhas com o valores maiores do que 0 na coluna g-0, com a ajuda dessa máscara com o código ```[dados['g-0']>0]```.\n",
    "\n",
    "Dessa mesma forma que aplicamos essa máscara, podemos utilizar o mesmo caminho, ou outras 'querys', para responder várias outras perguntas.\n",
    "\n",
    "Assim, temos outro desafio, o #5, de procurar na documentação do pandas o método query.\n",
    "\n",
    "Além desse temos outros desafios, o #6 e o #7 e o #8, todos eles estão logo abaixo."
   ]
  },
  {
   "cell_type": "code",
   "execution_count": null,
   "metadata": {
    "colab": {
     "base_uri": "https://localhost:8080/",
     "height": 422
    },
    "id": "hB3O-zZW9ZYw",
    "outputId": "eb4c4679-53d7-4398-966c-87d975a669f7"
   },
   "outputs": [],
   "source": [
    "dados"
   ]
  },
  {
   "cell_type": "markdown",
   "metadata": {
    "id": "X_Lg2XTu20ND"
   },
   "source": [
    "### Desafio 01: Investigar por que a classe tratamento é tão desbalanceada?"
   ]
  },
  {
   "cell_type": "markdown",
   "metadata": {},
   "source": [
    "Inicialmente, pode-se utilizar value_counts() para analisar as categorias"
   ]
  },
  {
   "cell_type": "code",
   "execution_count": null,
   "metadata": {},
   "outputs": [],
   "source": [
    "dados['tratamento'].value_counts()/len(dados)*100"
   ]
  },
  {
   "cell_type": "code",
   "execution_count": null,
   "metadata": {},
   "outputs": [],
   "source": [
    "dados['droga'].value_counts()"
   ]
  },
  {
   "cell_type": "markdown",
   "metadata": {},
   "source": [
    "Pode-se observar que a droga 'cacb2b860' está presente em 1866 linhas e o tratamento com controle também. Será que todas os tratamentos feitos com controle são com a droga em questão? \n",
    "\n",
    "Para verificar isso, montei uma função que faz uma tabela de contingência com 2 variáveis para analisarmos isso, segue abaixo:"
   ]
  },
  {
   "cell_type": "code",
   "execution_count": null,
   "metadata": {},
   "outputs": [],
   "source": [
    "def tabcont_2var(column1, column2):    \n",
    "    '''\n",
    "    Tabela de contingência para analisar 2 variáveis. \n",
    "    O output são 3 tabelas, uma com valores absolutos, outra com % na linha, sendo o total da linha = 1 \n",
    "    e outra com % na coluna, sendo o total da coluna = 1.\n",
    "    Variáveis necessárias: column1 = coluna 1, column2 = coluna 2\n",
    "    '''\n",
    "    tabcont_pl = pd.crosstab(index=column1, columns=column2, margins=True)\n",
    "    print('Valores absolutos:\\n')\n",
    "    print(tabcont_pl.to_markdown())    \n",
    "    print('\\nPorcentagem na linha:\\n')\n",
    "    print(round(tabcont_pl.div(tabcont_pl['All'], axis=0),2).to_markdown())\n",
    "    print('\\nPorcentagem na coluna:\\n')\n",
    "    print(round(tabcont_pl.div(tabcont_pl.loc['All'], axis=1),2).to_markdown())"
   ]
  },
  {
   "cell_type": "code",
   "execution_count": null,
   "metadata": {},
   "outputs": [],
   "source": [
    "tabcont_2var(dados['droga'], dados['tratamento'])"
   ]
  },
  {
   "cell_type": "markdown",
   "metadata": {},
   "source": [
    "Podemos então observar que sim, em todos os tratamentos com_controle apenas a droga \"cacb2b860\" foi administrada\n",
    "\n",
    "Uma outra forma de analisar isso pode ser:"
   ]
  },
  {
   "cell_type": "code",
   "execution_count": null,
   "metadata": {},
   "outputs": [],
   "source": [
    "len(dados[(dados['droga'] == 'cacb2b860') | (dados['tratamento'] == 'com_controle')])"
   ]
  },
  {
   "cell_type": "markdown",
   "metadata": {},
   "source": [
    "### Resposta\n",
    "\n",
    "Concluímos então que:\n",
    "* Em todos os tratamentos controle foram utilizados apenas a droga \"cacb2b860\" e este tratamento corresponde a, apenas, 7,84% do banco de dados, enquanto os tratamentos com droga representam 92,16%.\n",
    "* Essa diferença se deve, provavelmente, pelo fato de que a amostra de controle com 1866 já foi suficiente para se obter os resultados necessários para o grupo controle, considerando que utilizaram APENAS UMA DROGA nesse grupo."
   ]
  },
  {
   "cell_type": "markdown",
   "metadata": {
    "id": "ITVNag4B3c47"
   },
   "source": [
    "### Desafio 02: Plotar as 5 últimas linhas da tabela"
   ]
  },
  {
   "cell_type": "code",
   "execution_count": null,
   "metadata": {},
   "outputs": [],
   "source": [
    "dados.tail()"
   ]
  },
  {
   "cell_type": "markdown",
   "metadata": {},
   "source": [
    "### Desafio 03: Proporção das classes tratamento."
   ]
  },
  {
   "cell_type": "markdown",
   "metadata": {},
   "source": [
    "2 formas:"
   ]
  },
  {
   "cell_type": "code",
   "execution_count": null,
   "metadata": {},
   "outputs": [],
   "source": [
    "dados['tratamento'].value_counts()/len(dados)*100"
   ]
  },
  {
   "cell_type": "code",
   "execution_count": null,
   "metadata": {},
   "outputs": [],
   "source": [
    "dados['tratamento'].value_counts(normalize = True)"
   ]
  },
  {
   "cell_type": "markdown",
   "metadata": {},
   "source": [
    "### Desafio 04: Quantas tipos de drogas foram investigados."
   ]
  },
  {
   "cell_type": "code",
   "execution_count": null,
   "metadata": {},
   "outputs": [],
   "source": [
    "len(dados['droga'].unique())"
   ]
  },
  {
   "cell_type": "markdown",
   "metadata": {},
   "source": [
    "### Desafio 05: Procurar na documentação o método query(pandas). "
   ]
  },
  {
   "cell_type": "markdown",
   "metadata": {},
   "source": [
    "https://pandas.pydata.org/docs/reference/api/pandas.DataFrame.query.html?highlight=query#pandas.DataFrame.query"
   ]
  },
  {
   "cell_type": "markdown",
   "metadata": {},
   "source": [
    "Exemplo de uso:"
   ]
  },
  {
   "cell_type": "code",
   "execution_count": null,
   "metadata": {},
   "outputs": [],
   "source": [
    "dados.query('droga == \"cacb2b860\" & tratamento == \"com_controle\"')"
   ]
  },
  {
   "cell_type": "markdown",
   "metadata": {},
   "source": [
    "### Desafio 06: Renomear as colunas tirando o hífen. "
   ]
  },
  {
   "cell_type": "markdown",
   "metadata": {},
   "source": [
    "Consigo pensar em duas formas:"
   ]
  },
  {
   "cell_type": "code",
   "execution_count": null,
   "metadata": {},
   "outputs": [],
   "source": [
    "[i.replace('-','') for i in dados.columns]"
   ]
  },
  {
   "cell_type": "code",
   "execution_count": null,
   "metadata": {},
   "outputs": [],
   "source": [
    "dados.columns.str.replace('-', '')"
   ]
  },
  {
   "cell_type": "markdown",
   "metadata": {},
   "source": [
    "Efetivando a troca:"
   ]
  },
  {
   "cell_type": "code",
   "execution_count": null,
   "metadata": {
    "scrolled": true
   },
   "outputs": [],
   "source": [
    "dados.columns = dados.columns.str.replace('-', '')\n",
    "dados.head()"
   ]
  },
  {
   "cell_type": "markdown",
   "metadata": {},
   "source": [
    "### Desafio 07: Deixar os gráficos bonitões. (Matplotlib.pyplot)"
   ]
  },
  {
   "cell_type": "code",
   "execution_count": null,
   "metadata": {},
   "outputs": [],
   "source": [
    "import matplotlib.pyplot as plt\n",
    "\n",
    "\n",
    "plt.figure(figsize = (12,5))\n",
    "grafico = dados['tempo'].value_counts().plot(kind = 'bar', color = 'steelblue')\n",
    "\n",
    "label_y = plt.ylabel('Contagem')\n",
    "label_x = plt.xlabel('Tempo (h)')\n",
    "titulo = plt.title('Contagem da categoria horas')\n",
    "rotation = plt.xticks(rotation = 0)\n",
    "grafico.axes.get_yaxis().set_visible(False)\n",
    "top_side = grafico.spines[\"top\"]\n",
    "top_side.set_visible(False)\n",
    "right_side = grafico.spines[\"right\"]\n",
    "right_side.set_visible(False)\n",
    "left_side = grafico.spines[\"left\"]\n",
    "left_side.set_visible(False)\n",
    "\n",
    "for p in grafico.patches:\n",
    "    # determina a altura de cada barra\n",
    "    altura = p.get_height()\n",
    "    # adiciona o texto em cada barra\n",
    "    grafico.text(x = p.get_x()+(p.get_width()/2), # posição x de cada número. ficará no centro.\n",
    "    y = altura+30, # posição y do número, 8 unidades acima da barra\n",
    "    s = '{:.0f}'.format(altura), # formatação para número inteiro\n",
    "    ha = 'center') # alinhamento horizontal no centro"
   ]
  },
  {
   "cell_type": "markdown",
   "metadata": {},
   "source": [
    "### Desafio 08: Resumo do que você aprendeu com os dados"
   ]
  },
  {
   "cell_type": "code",
   "execution_count": null,
   "metadata": {},
   "outputs": [],
   "source": [
    "dados['tempo'].value_counts(normalize = True)"
   ]
  },
  {
   "cell_type": "code",
   "execution_count": null,
   "metadata": {},
   "outputs": [],
   "source": [
    "dados['dose'].value_counts(normalize = True)"
   ]
  },
  {
   "cell_type": "markdown",
   "metadata": {},
   "source": [
    "Através da análise podemos observar os seguintes pontos:\n",
    "- Há 3289 tipos de drogas no experimento. \n",
    "- A variável tratamento apresenta 2 categorias com as seguintes proporções, com_controle (7,84%) e com_droga (92,16%).\n",
    "- Apenas a droga 'cacb2b860' foi utilizada no grupo controle, totalizando 1866 amostras. As outras 3288 drogas estão na categoria com_droga\n",
    "- Temos 3 categorias de tempo com as seguintes proporções: 24h (32,6%), 48h (34,6%) e 72h (32,72%). As proporções são semelhantes\n",
    "- A variável dose segue na mesma linha, equilíbrio, porém há somente 2 categorias, D1 (51%) e D2 (49%)\n",
    "- Os dados nas categorias c e g (ex: g0, g1, c0, c1, etc), aparentemente, estão padronizados através de z_score em que $ z_{score} = \\frac{x-\\mu}{s} $ em que μ = média e s = desvio padrão"
   ]
  }
 ],
 "metadata": {
  "colab": {
   "name": "Aula_01.ipynb",
   "provenance": [],
   "toc_visible": true
  },
  "kernelspec": {
   "display_name": "Python 3",
   "language": "python",
   "name": "python3"
  },
  "language_info": {
   "codemirror_mode": {
    "name": "ipython",
    "version": 3
   },
   "file_extension": ".py",
   "mimetype": "text/x-python",
   "name": "python",
   "nbconvert_exporter": "python",
   "pygments_lexer": "ipython3",
   "version": "3.8.5"
  },
  "varInspector": {
   "cols": {
    "lenName": 16,
    "lenType": 16,
    "lenVar": 40
   },
   "kernels_config": {
    "python": {
     "delete_cmd_postfix": "",
     "delete_cmd_prefix": "del ",
     "library": "var_list.py",
     "varRefreshCmd": "print(var_dic_list())"
    },
    "r": {
     "delete_cmd_postfix": ") ",
     "delete_cmd_prefix": "rm(",
     "library": "var_list.r",
     "varRefreshCmd": "cat(var_dic_list()) "
    }
   },
   "position": {
    "height": "189px",
    "left": "1357px",
    "right": "20px",
    "top": "123px",
    "width": "503px"
   },
   "types_to_exclude": [
    "module",
    "function",
    "builtin_function_or_method",
    "instance",
    "_Feature"
   ],
   "window_display": false
  }
 },
 "nbformat": 4,
 "nbformat_minor": 1
}
